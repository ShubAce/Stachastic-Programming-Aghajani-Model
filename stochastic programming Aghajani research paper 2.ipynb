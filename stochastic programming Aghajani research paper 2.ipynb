{
 "cells": [
  {
   "cell_type": "markdown",
   "id": "0c9e4aa4",
   "metadata": {},
   "source": [
    "#### The model decides pre-disaster procurement quantities under long-term quantity-flexibility contracts, post-disaster relief orders via dynamic option contracts, and adjustable warehousing capacity, all while hedging against supply disruptions and demand uncertainty. The first stage (pre-disaster) determines contract quantities and warehouse capacity; the second stage (post-disaster, across scenarios) allocates extra orders, uses backup suppliers, satisfies scenario demands, and incurs penalties for unmet demand or surplus disposal.\n"
   ]
  },
  {
   "cell_type": "markdown",
   "id": "d5177370",
   "metadata": {},
   "source": [
    "### Decision variables\n",
    "\n",
    "$I$ index main suppliers,\n",
    "$J$ backup suppliers,\n",
    "$T$ time periods,\n",
    "$S$ disaster scenarios with $p_{s}$ probability\n",
    "\n",
    "First Stage\n",
    "$x_{i,t}$ >=0 : quantity contracted with main supplier $i$ for period $t$.\n",
    "\n",
    "$w_{t}$ >=0 : contracted warehouse capacity for period $t$.\n",
    "\n",
    "Second Satge\n",
    "\n",
    "$y^s_{j,t}$ >=0 : extra quantity taken from main supplier $i$ in scenario $s$.\n",
    "\n",
    "$z^s_{j,t}$ >=0 : quantity ordered from backup supplier $j$ in scenario $s$.\n",
    "\n",
    "$u^s_{t}$ >=0 : unmet demand (shortage) in period $t$ under scenario $s$.\n",
    "\n",
    "$δ^s_{t}$ >=0 : unused inventory disposed in period $t$.\n"
   ]
  },
  {
   "cell_type": "markdown",
   "id": "3797242d",
   "metadata": {},
   "source": [
    "### Objective Function\n",
    "\n",
    "$$\n",
    "\\min \\sum_{t \\in T} \\left( \\sum_{i \\in I} c_{i,t}^x x_{i,t} + h_t w_t \\right) + \\sum_{s \\in S} p_s \\left[ \\sum_{t \\in T} \\left( \\sum_{i \\in I} c_{i,t}^y y_{i,t}^s + \\sum_{j \\in J} c_{j,t}^z z_{j,t}^s + \\pi_t u_t^s + \\rho_t \\delta_t^s \\right) \\right]\n",
    "$$\n",
    "\n",
    "$$\n",
    "\\begin{aligned}\n",
    "&- c_{i,t}^{x}, c_{i,t}^{y} \\text{ are main-supplier pre- and post-disaster unit costs}; \\\\\n",
    "&- c_{j,t}^{z} \\text{ are backup-supplier option premiums}; \\\\\n",
    "&- h_t \\text{ is per-unit warehouse capacity cost}; \\\\\n",
    "&- \\pi_t, \\rho_t \\text{ are penalties for unmet demand and surplus disposal in period } t.\\\\\n",
    "&- \\rho_s \\text{ probability of scenario $s$}.\n",
    "\\end{aligned}\n",
    "$$\n"
   ]
  },
  {
   "cell_type": "markdown",
   "id": "dd17829d",
   "metadata": {},
   "source": [
    "#### Constraints\n",
    "\n",
    "#### 1. Pre-disaster capacity and flexibility\n",
    "\n",
    "$$\n",
    "x_{i,t} \\leq \\overline{X}_{i,t} \\quad \\text{and} \\quad y_{i,t}^s \\leq \\gamma_{i,t} x_{i,t} \\quad \\forall i, t, s\n",
    "$$\n",
    "\n",
    "where $\\overline{X}_{i,t}$ is supplier capacity and $\\gamma_{i,t}$ is the flexibility ratio.\n",
    "\n",
    "#### 2. Backup supplier limits\n",
    "\n",
    "$$\n",
    "z_{j,t}^s \\leq \\overline{Z}_{j,t} \\quad \\forall j, t, s\n",
    "$$\n",
    "\n",
    "#### 3. Warehouse capacity\n",
    "\n",
    "$$\n",
    "\\sum_i x_{i,t} + \\sum_s p_s (y_{i,t}^s + z_{j,t}^s) \\leq w_t \\quad \\forall t\n",
    "$$\n",
    "\n",
    "#### 4. Demand satisfaction (per scenario)\n",
    "\n",
    "$$\n",
    "\\sum_i (x_{i,t} + y_{i,t}^s) + \\sum_j z_{j,t}^s + \\delta_{t-1}^s - \\delta_t^s + u_{t-1}^s - u_t^s \\geq D_t^s \\quad \\forall t, s\n",
    "$$\n",
    "\n",
    "Ensuring flows balance demand $D_t^s$.\n",
    "\n",
    "#### 5. Non-anticipativity\n",
    "\n",
    "$x_{i,t}, w_t$ are identical across all $s$.\n"
   ]
  },
  {
   "cell_type": "markdown",
   "id": "a9ae0cc0",
   "metadata": {},
   "source": [
    "#### Importing libraries\n"
   ]
  },
  {
   "cell_type": "code",
   "execution_count": 1,
   "id": "f8f600f1",
   "metadata": {},
   "outputs": [],
   "source": [
    "import gurobipy as gp\n",
    "from gurobipy import GRB"
   ]
  },
  {
   "cell_type": "code",
   "execution_count": 2,
   "id": "70871915",
   "metadata": {},
   "outputs": [],
   "source": [
    "# Assuming Required data\n",
    "I = ['A','B'] #main suppliers\n",
    "J = ['C'] #Backup suppliers\n",
    "T = [1,2] # Time periods\n",
    "S = ['low','med','high']  # Scenarios\n",
    "\n",
    "# Probabilities\n",
    "p = {'low':0.5, 'med':0.3, 'high':0.2}\n",
    "\n",
    "# Demand parameters\n",
    "D = {('low',1):100, ('low',2):120,\n",
    "     ('med',1):200, ('med',2):180,\n",
    "     ('high',1):230,('high',2):240}\n",
    "\n",
    "# Cost parameters\n",
    "c_x = {('A',1):10, ('A',2):11, ('B',1):12, ('B',2):13}\n",
    "c_y = {('A',1):12, ('A',2):13, ('B',1):14, ('B',2):15}\n",
    "c_z = {('C',1):20, ('C',2):22}\n",
    "h = {1:2, 2:2}\n",
    "pi = {1:50, 2:50}\n",
    "rho = {1:5, 2:5}\n",
    "\n",
    "# Capacity parameters\n",
    "X_cap = {('A',1):200, ('A',2):200, ('B',1):150, ('B',2):150}\n",
    "Z_cap = {('C',1):100, ('C',2):100}\n",
    "gamma = {('A',1):0.5, ('A',2):0.5, ('B',1):0.4, ('B',2):0.4}\n"
   ]
  },
  {
   "cell_type": "code",
   "execution_count": 3,
   "id": "93257212",
   "metadata": {},
   "outputs": [
    {
     "name": "stdout",
     "output_type": "stream",
     "text": [
      "Restricted license - for non-production use only - expires 2026-11-23\n"
     ]
    }
   ],
   "source": [
    "m = gp.Model(\"relief\")"
   ]
  },
  {
   "cell_type": "markdown",
   "id": "ebf2db97",
   "metadata": {},
   "source": [
    "##### First Stage\n"
   ]
  },
  {
   "cell_type": "code",
   "execution_count": 4,
   "id": "19e5a4f2",
   "metadata": {},
   "outputs": [],
   "source": [
    "x = m.addVars(I,T,lb=0, name='x') #Pre disaster procurement\n",
    "w = m.addVars(T, lb=0, name='w') #warehouse capacity"
   ]
  },
  {
   "cell_type": "markdown",
   "id": "b2624660",
   "metadata": {},
   "source": [
    "##### Second Stage\n"
   ]
  },
  {
   "cell_type": "code",
   "execution_count": 5,
   "id": "033957c7",
   "metadata": {},
   "outputs": [],
   "source": [
    "y = m.addVars(S, I, T, lb=0, name=\"y\")    # Post-disaster procurement\n",
    "z = m.addVars(S, J, T, lb=0, name=\"z\")    # Backup procurement\n",
    "delta = m.addVars(S, T, lb=0, name=\"delta\")  # Surplus\n",
    "u = m.addVars(S, T, lb=0, name=\"u\")        # Shortage"
   ]
  },
  {
   "cell_type": "markdown",
   "id": "aee15995",
   "metadata": {},
   "source": [
    "#### Objective function\n"
   ]
  },
  {
   "cell_type": "code",
   "execution_count": 6,
   "id": "3e456974",
   "metadata": {},
   "outputs": [],
   "source": [
    "first_stage = (\n",
    "    gp.quicksum(c_x[i,t] * x[i,t] for i in I for t in T) +\n",
    "    gp.quicksum(h[t] * w[t] for t in T)\n",
    ")\n",
    "\n",
    "second_stage = gp.quicksum(\n",
    "    p[s] * (\n",
    "        gp.quicksum(c_y[i,t] * y[s,i,t] for i in I for t in T) +\n",
    "        gp.quicksum(c_z[j,t] * z[s,j,t] for j in J for t in T) +\n",
    "        gp.quicksum(pi[t] * u[s,t] + rho[t] * delta[s,t] for t in T)\n",
    "    ) for s in S\n",
    ")\n",
    "\n",
    "m.setObjective(first_stage + second_stage, gp.GRB.MINIMIZE)"
   ]
  },
  {
   "cell_type": "markdown",
   "id": "32b56624",
   "metadata": {},
   "source": [
    "#### Constraints\n"
   ]
  },
  {
   "cell_type": "code",
   "execution_count": 7,
   "id": "31fac199",
   "metadata": {},
   "outputs": [],
   "source": [
    "# 1. Pre-disaster capacity constraints\n",
    "for i in I:\n",
    "    for t in T:\n",
    "        m.addConstr(x[i,t] <= X_cap[i,t], name=f\"pre_cap_{i}_{t}\")"
   ]
  },
  {
   "cell_type": "code",
   "execution_count": 8,
   "id": "cfc91840",
   "metadata": {},
   "outputs": [],
   "source": [
    "# 2. Post-disaster flexibility constraints\n",
    "for s in S:\n",
    "    for i in I:\n",
    "        for t in T:\n",
    "            m.addConstr(y[s,i,t] <= gamma[i,t] * x[i,t], \n",
    "                        name=f\"flex_{s}_{i}_{t}\")"
   ]
  },
  {
   "cell_type": "code",
   "execution_count": 9,
   "id": "e00c0a01",
   "metadata": {},
   "outputs": [],
   "source": [
    "# 3. Backup supplier capacity constraints\n",
    "for s in S:\n",
    "    for j in J:\n",
    "        for t in T:\n",
    "            m.addConstr(z[s,j,t] <= Z_cap[j,t], \n",
    "                        name=f\"backup_cap_{s}_{j}_{t}\")\n"
   ]
  },
  {
   "cell_type": "code",
   "execution_count": 10,
   "id": "1374507f",
   "metadata": {},
   "outputs": [],
   "source": [
    "# 4. Warehouse capacity constraints (fixed)\n",
    "for t in T:\n",
    "    m.addConstr(\n",
    "        gp.quicksum(x[i,t] for i in I) + \n",
    "        gp.quicksum(\n",
    "            p[s] * (\n",
    "                gp.quicksum(y[s,i,t] for i in I) + \n",
    "                gp.quicksum(z[s,j,t] for j in J)\n",
    "            )\n",
    "            for s in S\n",
    "        ) <= w[t],\n",
    "        name=f\"warehouse_{t}\"\n",
    "    )\n"
   ]
  },
  {
   "cell_type": "code",
   "execution_count": 11,
   "id": "64306bfd",
   "metadata": {},
   "outputs": [],
   "source": [
    "# 5. Demand satisfaction constraints (fixed)\n",
    "for s in S:\n",
    "    for t in T:\n",
    "        lhs = (\n",
    "            gp.quicksum(x[i,t] + y[s,i,t] for i in I) \n",
    "            + gp.quicksum(z[s,j,t] for j in J)\n",
    "        )\n",
    "        \n",
    "        # Add inventory carry-over terms only if t > 1\n",
    "        if t > 1:\n",
    "            lhs += (delta[s,t-1] - delta[s,t] + u[s,t-1] - u[s,t])\n",
    "        \n",
    "        m.addConstr(lhs >= D[s,t], name=f\"demand_{s}_{t}\")"
   ]
  },
  {
   "cell_type": "code",
   "execution_count": 12,
   "id": "31e09ab2",
   "metadata": {},
   "outputs": [],
   "source": [
    "m.write(\"stochastic programming aghajani.lp\")"
   ]
  },
  {
   "cell_type": "code",
   "execution_count": 13,
   "id": "393e63ce",
   "metadata": {},
   "outputs": [
    {
     "name": "stdout",
     "output_type": "stream",
     "text": [
      "Gurobi Optimizer version 12.0.2 build v12.0.2rc0 (win64 - Windows 11.0 (26100.2))\n",
      "\n",
      "CPU model: 13th Gen Intel(R) Core(TM) i7-13700HX, instruction set [SSE2|AVX|AVX2]\n",
      "Thread count: 16 physical cores, 24 logical processors, using up to 24 threads\n",
      "\n",
      "Optimize a model with 30 rows, 36 columns and 100 nonzeros\n",
      "Model fingerprint: 0xeaf3748c\n",
      "Coefficient statistics:\n",
      "  Matrix range     [2e-01, 1e+00]\n",
      "  Objective range  [1e+00, 3e+01]\n",
      "  Bounds range     [0e+00, 0e+00]\n",
      "  RHS range        [1e+02, 2e+02]\n",
      "Presolve removed 21 rows and 25 columns\n",
      "Presolve time: 0.01s\n",
      "Presolved: 9 rows, 11 columns, 27 nonzeros\n",
      "\n",
      "Iteration    Objective       Primal Inf.    Dual Inf.      Time\n",
      "       0    8.1000000e+02   6.625000e+01   0.000000e+00      0s\n",
      "       8    3.0086667e+03   0.000000e+00   0.000000e+00      0s\n",
      "\n",
      "Solved in 8 iterations and 0.01 seconds (0.00 work units)\n",
      "Optimal objective  3.008666667e+03\n"
     ]
    }
   ],
   "source": [
    "m.optimize()"
   ]
  },
  {
   "cell_type": "code",
   "execution_count": 14,
   "id": "e22a5da5",
   "metadata": {},
   "outputs": [
    {
     "name": "stdout",
     "output_type": "stream",
     "text": [
      "Optimal solution found!\n",
      "Total Cost: $3008.67\n",
      "\n",
      "=== First-Stage Variables ===\n",
      "x[A,1] = 133.33\n",
      "x[A,2] = 0.00\n",
      "x[B,1] = 0.00\n",
      "x[B,2] = 0.00\n",
      "\n",
      "Warehouse Capacity:\n",
      "w[1] = 172.67\n",
      "w[2] = 0.00\n",
      "\n",
      "=== Second-Stage Variables ===\n",
      "\n",
      "Post-disaster Procurement (y):\n",
      "y[low,A,1] = 0.00\n",
      "y[low,A,2] = 0.00\n",
      "y[low,B,1] = 0.00\n",
      "y[low,B,2] = 0.00\n",
      "y[med,A,1] = 66.67\n",
      "y[med,A,2] = 0.00\n",
      "y[med,B,1] = 0.00\n",
      "y[med,B,2] = 0.00\n",
      "y[high,A,1] = 66.67\n",
      "y[high,A,2] = 0.00\n",
      "y[high,B,1] = 0.00\n",
      "y[high,B,2] = 0.00\n",
      "\n",
      "Backup Procurement (z):\n",
      "z[low,C,1] = 0.00\n",
      "z[low,C,2] = 0.00\n",
      "z[med,C,1] = 0.00\n",
      "z[med,C,2] = 0.00\n",
      "z[high,C,1] = 30.00\n",
      "z[high,C,2] = 0.00\n",
      "\n",
      "Surplus (delta):\n",
      "delta[low,1] = 120.00\n",
      "delta[low,2] = 0.00\n",
      "delta[med,1] = 180.00\n",
      "delta[med,2] = 0.00\n",
      "delta[high,1] = 240.00\n",
      "delta[high,2] = 0.00\n",
      "\n",
      "Shortage (u):\n",
      "u[low,1] = 0.00\n",
      "u[low,2] = 0.00\n",
      "u[med,1] = 0.00\n",
      "u[med,2] = 0.00\n",
      "u[high,1] = 0.00\n",
      "u[high,2] = 0.00\n"
     ]
    }
   ],
   "source": [
    "if m.status == gp.GRB.OPTIMAL:\n",
    "    print(\"Optimal solution found!\")\n",
    "    print(f\"Total Cost: ${m.ObjVal:.2f}\\n\")\n",
    "\n",
    "    print(\"=== First-Stage Variables ===\")\n",
    "    # 1. Pre-disaster procurement (x)\n",
    "    for i in I:\n",
    "        for t in T:\n",
    "            print(f\"x[{i},{t}] = {x[i,t].X:.2f}\")\n",
    "    \n",
    "    # 2. Warehouse capacity (w)\n",
    "    print(\"\\nWarehouse Capacity:\")\n",
    "    for t in T:\n",
    "        print(f\"w[{t}] = {w[t].X:.2f}\")\n",
    "    \n",
    "    print(\"\\n=== Second-Stage Variables ===\")\n",
    "    # 3. Post-disaster procurement (y)\n",
    "    print(\"\\nPost-disaster Procurement (y):\")\n",
    "    for s in S:\n",
    "        for i in I:\n",
    "            for t in T:\n",
    "                print(f\"y[{s},{i},{t}] = {y[s,i,t].X:.2f}\")\n",
    "    \n",
    "    # 4. Backup procurement (z)\n",
    "    print(\"\\nBackup Procurement (z):\")\n",
    "    for s in S:\n",
    "        for j in J:\n",
    "            for t in T:\n",
    "                print(f\"z[{s},{j},{t}] = {z[s,j,t].X:.2f}\")\n",
    "    \n",
    "    # 5. Surplus (delta) and shortage (u)\n",
    "    print(\"\\nSurplus (delta):\")\n",
    "    for s in S:\n",
    "        for t in T:\n",
    "            print(f\"delta[{s},{t}] = {delta[s,t].X:.2f}\")\n",
    "    \n",
    "    print(\"\\nShortage (u):\")\n",
    "    for s in S:\n",
    "        for t in T:\n",
    "            print(f\"u[{s},{t}] = {u[s,t].X:.2f}\")\n",
    "else:\n",
    "    print(\"No optimal solution found\")"
   ]
  },
  {
   "cell_type": "code",
   "execution_count": null,
   "id": "12b0aade",
   "metadata": {},
   "outputs": [],
   "source": []
  },
  {
   "cell_type": "code",
   "execution_count": null,
   "id": "9cdb1073",
   "metadata": {},
   "outputs": [],
   "source": []
  },
  {
   "cell_type": "code",
   "execution_count": null,
   "id": "2190c32e",
   "metadata": {},
   "outputs": [],
   "source": []
  },
  {
   "cell_type": "code",
   "execution_count": null,
   "id": "615ce45f",
   "metadata": {},
   "outputs": [],
   "source": []
  }
 ],
 "metadata": {
  "kernelspec": {
   "display_name": "py-TF",
   "language": "python",
   "name": "python3"
  },
  "language_info": {
   "codemirror_mode": {
    "name": "ipython",
    "version": 3
   },
   "file_extension": ".py",
   "mimetype": "text/x-python",
   "name": "python",
   "nbconvert_exporter": "python",
   "pygments_lexer": "ipython3",
   "version": "3.12.8"
  }
 },
 "nbformat": 4,
 "nbformat_minor": 5
}
